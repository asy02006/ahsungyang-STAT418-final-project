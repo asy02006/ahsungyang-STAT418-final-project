{
 "cells": [
  {
   "cell_type": "markdown",
   "metadata": {},
   "source": [
    "# Run Naive Bayes Classifier on the Text Data to Predict Share Price Direction\n",
    "\n",
    "- As opposed to using the existing Naive Bayes Classifier trained on a movie review corpus, we attempted to fit the classifier directly to the articles and corresponding daily share price returns"
   ]
  },
  {
   "cell_type": "code",
   "execution_count": 280,
   "metadata": {},
   "outputs": [],
   "source": [
    "import csv\n",
    "from yahoo_historical import Fetcher\n",
    "import numpy as np\n",
    "import pandas as pd\n",
    "\n",
    "# Naive Bayes Classifier \n",
    "from textblob import TextBlob\n",
    "from textblob.classifiers import NaiveBayesClassifier"
   ]
  },
  {
   "cell_type": "markdown",
   "metadata": {},
   "source": [
    "## 1. Downlaod the article csv file\n",
    "\n",
    "- Change the directory to where the csv file is saved\n",
    "- Extract only relevant data \n",
    "- dates, abstract, headline, paragraph and snippet"
   ]
  },
  {
   "cell_type": "code",
   "execution_count": 222,
   "metadata": {},
   "outputs": [],
   "source": [
    "with open('news_data.csv') as csvfile:\n",
    "    \n",
    "    readCSV = csv.reader(csvfile)\n",
    "    \n",
    "    dates = []\n",
    "    abstracts = []\n",
    "    headlines = []\n",
    "    snippets = []\n",
    "    paragraphs = []\n",
    "    \n",
    "    for row in readCSV:\n",
    "        abstract = row[0]\n",
    "        date = row[1]\n",
    "        headline = row[4]\n",
    "        paragraph = row[8]\n",
    "        snippet = row[9]\n",
    "        \n",
    "        dates.append(date)\n",
    "        abstracts.append(abstract)\n",
    "        headlines.append(headline)\n",
    "        snippets.append(snippet)\n",
    "        paragraphs.append(paragraph)\n",
    "        "
   ]
  },
  {
   "cell_type": "code",
   "execution_count": 239,
   "metadata": {},
   "outputs": [
    {
     "data": {
      "text/html": [
       "<div>\n",
       "<style scoped>\n",
       "    .dataframe tbody tr th:only-of-type {\n",
       "        vertical-align: middle;\n",
       "    }\n",
       "\n",
       "    .dataframe tbody tr th {\n",
       "        vertical-align: top;\n",
       "    }\n",
       "\n",
       "    .dataframe thead th {\n",
       "        text-align: right;\n",
       "    }\n",
       "</style>\n",
       "<table border=\"1\" class=\"dataframe\">\n",
       "  <thead>\n",
       "    <tr style=\"text-align: right;\">\n",
       "      <th></th>\n",
       "      <th>date</th>\n",
       "      <th>abstract</th>\n",
       "      <th>headline</th>\n",
       "      <th>snippet</th>\n",
       "      <th>paragraph</th>\n",
       "    </tr>\n",
       "  </thead>\n",
       "  <tbody>\n",
       "    <tr>\n",
       "      <th>0</th>\n",
       "      <td>2014-01-07</td>\n",
       "      <td>Apple’s iCloud data service works best with Ap...</td>\n",
       "      <td>Taking Along iCloud Calendars</td>\n",
       "      <td>Apple’s iCloud data service works best with Ap...</td>\n",
       "      <td>Q. Our family life depends on Apple shared cal...</td>\n",
       "    </tr>\n",
       "    <tr>\n",
       "      <th>1</th>\n",
       "      <td>2014-01-09</td>\n",
       "      <td>In March, Apple and Samsung Electronics are sc...</td>\n",
       "      <td>Apple and Samsung Chiefs to Meet a Mediator Ah...</td>\n",
       "      <td>In March, Apple and Samsung Electronics are sc...</td>\n",
       "      <td>In March, Apple and Samsung Electronics are sc...</td>\n",
       "    </tr>\n",
       "    <tr>\n",
       "      <th>2</th>\n",
       "      <td>2014-01-10</td>\n",
       "      <td>Last year was the first in which personal comp...</td>\n",
       "      <td>For PC Makers, the Good News on 2013 Is That I...</td>\n",
       "      <td>Last year was the first in which personal comp...</td>\n",
       "      <td>The two leading analysis companies tracking th...</td>\n",
       "    </tr>\n",
       "    <tr>\n",
       "      <th>3</th>\n",
       "      <td>2014-01-13</td>\n",
       "      <td>To draw young buyers and increase its market s...</td>\n",
       "      <td>Cost of Cool in India? An iPhoneDaily Report: ...</td>\n",
       "      <td>To draw young buyers and increase its market s...</td>\n",
       "      <td>BANGALORE, India — After deliberating for mont...</td>\n",
       "    </tr>\n",
       "    <tr>\n",
       "      <th>4</th>\n",
       "      <td>2014-01-14</td>\n",
       "      <td>This is not the usual start-up acquisition: Th...</td>\n",
       "      <td>Google and Nest: Two Companies in the Business...</td>\n",
       "      <td>This is not the usual start-up acquisition: Th...</td>\n",
       "      <td>Google has announced it is buying Nest Labs, m...</td>\n",
       "    </tr>\n",
       "  </tbody>\n",
       "</table>\n",
       "</div>"
      ],
      "text/plain": [
       "         date                                           abstract  \\\n",
       "0  2014-01-07  Apple’s iCloud data service works best with Ap...   \n",
       "1  2014-01-09  In March, Apple and Samsung Electronics are sc...   \n",
       "2  2014-01-10  Last year was the first in which personal comp...   \n",
       "3  2014-01-13  To draw young buyers and increase its market s...   \n",
       "4  2014-01-14  This is not the usual start-up acquisition: Th...   \n",
       "\n",
       "                                            headline  \\\n",
       "0                      Taking Along iCloud Calendars   \n",
       "1  Apple and Samsung Chiefs to Meet a Mediator Ah...   \n",
       "2  For PC Makers, the Good News on 2013 Is That I...   \n",
       "3  Cost of Cool in India? An iPhoneDaily Report: ...   \n",
       "4  Google and Nest: Two Companies in the Business...   \n",
       "\n",
       "                                             snippet  \\\n",
       "0  Apple’s iCloud data service works best with Ap...   \n",
       "1  In March, Apple and Samsung Electronics are sc...   \n",
       "2  Last year was the first in which personal comp...   \n",
       "3  To draw young buyers and increase its market s...   \n",
       "4  This is not the usual start-up acquisition: Th...   \n",
       "\n",
       "                                           paragraph  \n",
       "0  Q. Our family life depends on Apple shared cal...  \n",
       "1  In March, Apple and Samsung Electronics are sc...  \n",
       "2  The two leading analysis companies tracking th...  \n",
       "3  BANGALORE, India — After deliberating for mont...  \n",
       "4  Google has announced it is buying Nest Labs, m...  "
      ]
     },
     "execution_count": 239,
     "metadata": {},
     "output_type": "execute_result"
    }
   ],
   "source": [
    "# Change the news into data frame\n",
    "news = {'date': dates, 'abstract': abstracts, 'headline': headlines, 'snippet': snippets, 'paragraph': paragraphs}\n",
    "news_df = pd.DataFrame(news)\n",
    "news_df = news_df.iloc[1:len(news_df['abstract']),]\n",
    "\n",
    "# Group the data frame by date and get the aggregate articles per day\n",
    "#news_df_grouped = news_df.groupby('date')['abstract'].sum()\n",
    "news_df_grouped = news_df.groupby('date').agg({'abstract':'sum', 'headline':'sum', 'snippet':'sum', 'paragraph':'sum'})\n",
    "news_df_grouped = pd.DataFrame(news_df_grouped.reset_index())\n",
    "\n",
    "# Check\n",
    "news_df_grouped.head()"
   ]
  },
  {
   "cell_type": "markdown",
   "metadata": {},
   "source": [
    "## 2. Download Share Prices from Yahoo and Compute Log Differences"
   ]
  },
  {
   "cell_type": "code",
   "execution_count": 240,
   "metadata": {},
   "outputs": [
    {
     "data": {
      "text/html": [
       "<div>\n",
       "<style scoped>\n",
       "    .dataframe tbody tr th:only-of-type {\n",
       "        vertical-align: middle;\n",
       "    }\n",
       "\n",
       "    .dataframe tbody tr th {\n",
       "        vertical-align: top;\n",
       "    }\n",
       "\n",
       "    .dataframe thead th {\n",
       "        text-align: right;\n",
       "    }\n",
       "</style>\n",
       "<table border=\"1\" class=\"dataframe\">\n",
       "  <thead>\n",
       "    <tr style=\"text-align: right;\">\n",
       "      <th></th>\n",
       "      <th>date</th>\n",
       "      <th>log_diff</th>\n",
       "      <th>binary_response</th>\n",
       "    </tr>\n",
       "  </thead>\n",
       "  <tbody>\n",
       "    <tr>\n",
       "      <th>1</th>\n",
       "      <td>2014-01-03</td>\n",
       "      <td>-0.022210</td>\n",
       "      <td>neg</td>\n",
       "    </tr>\n",
       "    <tr>\n",
       "      <th>2</th>\n",
       "      <td>2014-01-06</td>\n",
       "      <td>0.005438</td>\n",
       "      <td>pos</td>\n",
       "    </tr>\n",
       "    <tr>\n",
       "      <th>3</th>\n",
       "      <td>2014-01-07</td>\n",
       "      <td>-0.007178</td>\n",
       "      <td>neg</td>\n",
       "    </tr>\n",
       "    <tr>\n",
       "      <th>4</th>\n",
       "      <td>2014-01-08</td>\n",
       "      <td>0.006313</td>\n",
       "      <td>pos</td>\n",
       "    </tr>\n",
       "    <tr>\n",
       "      <th>5</th>\n",
       "      <td>2014-01-09</td>\n",
       "      <td>-0.012852</td>\n",
       "      <td>neg</td>\n",
       "    </tr>\n",
       "  </tbody>\n",
       "</table>\n",
       "</div>"
      ],
      "text/plain": [
       "         date  log_diff binary_response\n",
       "1  2014-01-03 -0.022210             neg\n",
       "2  2014-01-06  0.005438             pos\n",
       "3  2014-01-07 -0.007178             neg\n",
       "4  2014-01-08  0.006313             pos\n",
       "5  2014-01-09 -0.012852             neg"
      ]
     },
     "execution_count": 240,
     "metadata": {},
     "output_type": "execute_result"
    }
   ],
   "source": [
    "data = Fetcher(\"AAPL\", [2014,1,1], [2019,4,30])\n",
    "shareprice_df = data.getHistorical()\n",
    "\n",
    "# Use Adjusted Close Price\n",
    "close_price = shareprice_df.iloc[:, [0,5]]\n",
    "\n",
    "# Covert the close price to np.array to get log differences\n",
    "np_price = np.array(close_price.iloc[:,[1]])\n",
    "log_diff_price = np.diff(np.log(np_price).reshape(1,len(np_price))).reshape(len(np_price)-1, 1)\n",
    "\n",
    "# Create the binary response variable\n",
    "binary_response = ['pos' if i > 0 else 'neg' for i in log_diff_price]\n",
    "\n",
    "# Create the data frame of share price returns (log differences)\n",
    "log_diff = close_price.iloc[1:len(np_price),[0]]\n",
    "log_diff.insert(1, 'log_diff_price', log_diff_price)\n",
    "log_diff.insert(2, 'binary_response', binary_response)\n",
    "log_diff.rename(columns={'Date':'date', 'log_diff_price':'log_diff', 'binary_response':'binary_response'}, inplace=True)\n",
    "\n",
    "# Check\n",
    "log_diff.head()\n"
   ]
  },
  {
   "cell_type": "markdown",
   "metadata": {},
   "source": [
    "## 3. Create the join table \n",
    "- Since dates are different between the two data sets, we will use inner join to extract the data where we have both information"
   ]
  },
  {
   "cell_type": "code",
   "execution_count": 242,
   "metadata": {},
   "outputs": [
    {
     "data": {
      "text/html": [
       "<div>\n",
       "<style scoped>\n",
       "    .dataframe tbody tr th:only-of-type {\n",
       "        vertical-align: middle;\n",
       "    }\n",
       "\n",
       "    .dataframe tbody tr th {\n",
       "        vertical-align: top;\n",
       "    }\n",
       "\n",
       "    .dataframe thead th {\n",
       "        text-align: right;\n",
       "    }\n",
       "</style>\n",
       "<table border=\"1\" class=\"dataframe\">\n",
       "  <thead>\n",
       "    <tr style=\"text-align: right;\">\n",
       "      <th></th>\n",
       "      <th>date</th>\n",
       "      <th>log_diff</th>\n",
       "      <th>binary_response</th>\n",
       "      <th>abstract</th>\n",
       "      <th>headline</th>\n",
       "      <th>snippet</th>\n",
       "      <th>paragraph</th>\n",
       "    </tr>\n",
       "  </thead>\n",
       "  <tbody>\n",
       "    <tr>\n",
       "      <th>0</th>\n",
       "      <td>2014-01-07</td>\n",
       "      <td>-0.007178</td>\n",
       "      <td>neg</td>\n",
       "      <td>Apple’s iCloud data service works best with Ap...</td>\n",
       "      <td>Taking Along iCloud Calendars</td>\n",
       "      <td>Apple’s iCloud data service works best with Ap...</td>\n",
       "      <td>Q. Our family life depends on Apple shared cal...</td>\n",
       "    </tr>\n",
       "    <tr>\n",
       "      <th>1</th>\n",
       "      <td>2014-01-09</td>\n",
       "      <td>-0.012852</td>\n",
       "      <td>neg</td>\n",
       "      <td>In March, Apple and Samsung Electronics are sc...</td>\n",
       "      <td>Apple and Samsung Chiefs to Meet a Mediator Ah...</td>\n",
       "      <td>In March, Apple and Samsung Electronics are sc...</td>\n",
       "      <td>In March, Apple and Samsung Electronics are sc...</td>\n",
       "    </tr>\n",
       "    <tr>\n",
       "      <th>2</th>\n",
       "      <td>2014-01-10</td>\n",
       "      <td>-0.006695</td>\n",
       "      <td>neg</td>\n",
       "      <td>Last year was the first in which personal comp...</td>\n",
       "      <td>For PC Makers, the Good News on 2013 Is That I...</td>\n",
       "      <td>Last year was the first in which personal comp...</td>\n",
       "      <td>The two leading analysis companies tracking th...</td>\n",
       "    </tr>\n",
       "    <tr>\n",
       "      <th>3</th>\n",
       "      <td>2014-01-13</td>\n",
       "      <td>0.005221</td>\n",
       "      <td>pos</td>\n",
       "      <td>To draw young buyers and increase its market s...</td>\n",
       "      <td>Cost of Cool in India? An iPhoneDaily Report: ...</td>\n",
       "      <td>To draw young buyers and increase its market s...</td>\n",
       "      <td>BANGALORE, India — After deliberating for mont...</td>\n",
       "    </tr>\n",
       "    <tr>\n",
       "      <th>4</th>\n",
       "      <td>2014-01-14</td>\n",
       "      <td>0.019703</td>\n",
       "      <td>pos</td>\n",
       "      <td>This is not the usual start-up acquisition: Th...</td>\n",
       "      <td>Google and Nest: Two Companies in the Business...</td>\n",
       "      <td>This is not the usual start-up acquisition: Th...</td>\n",
       "      <td>Google has announced it is buying Nest Labs, m...</td>\n",
       "    </tr>\n",
       "  </tbody>\n",
       "</table>\n",
       "</div>"
      ],
      "text/plain": [
       "         date  log_diff binary_response  \\\n",
       "0  2014-01-07 -0.007178             neg   \n",
       "1  2014-01-09 -0.012852             neg   \n",
       "2  2014-01-10 -0.006695             neg   \n",
       "3  2014-01-13  0.005221             pos   \n",
       "4  2014-01-14  0.019703             pos   \n",
       "\n",
       "                                            abstract  \\\n",
       "0  Apple’s iCloud data service works best with Ap...   \n",
       "1  In March, Apple and Samsung Electronics are sc...   \n",
       "2  Last year was the first in which personal comp...   \n",
       "3  To draw young buyers and increase its market s...   \n",
       "4  This is not the usual start-up acquisition: Th...   \n",
       "\n",
       "                                            headline  \\\n",
       "0                      Taking Along iCloud Calendars   \n",
       "1  Apple and Samsung Chiefs to Meet a Mediator Ah...   \n",
       "2  For PC Makers, the Good News on 2013 Is That I...   \n",
       "3  Cost of Cool in India? An iPhoneDaily Report: ...   \n",
       "4  Google and Nest: Two Companies in the Business...   \n",
       "\n",
       "                                             snippet  \\\n",
       "0  Apple’s iCloud data service works best with Ap...   \n",
       "1  In March, Apple and Samsung Electronics are sc...   \n",
       "2  Last year was the first in which personal comp...   \n",
       "3  To draw young buyers and increase its market s...   \n",
       "4  This is not the usual start-up acquisition: Th...   \n",
       "\n",
       "                                           paragraph  \n",
       "0  Q. Our family life depends on Apple shared cal...  \n",
       "1  In March, Apple and Samsung Electronics are sc...  \n",
       "2  The two leading analysis companies tracking th...  \n",
       "3  BANGALORE, India — After deliberating for mont...  \n",
       "4  Google has announced it is buying Nest Labs, m...  "
      ]
     },
     "execution_count": 242,
     "metadata": {},
     "output_type": "execute_result"
    }
   ],
   "source": [
    "news_sp = pd.merge(log_diff, news_df_grouped, on = 'date', how='inner')\n",
    "news_sp.head()"
   ]
  },
  {
   "cell_type": "markdown",
   "metadata": {},
   "source": [
    "## 4. Create a list  of training and test sets for Naive Bayes Classifier\n",
    "\n",
    "- There are 785 data points in the data set\n",
    "- We will use 700 data points as a training set which is ~90%\n",
    "- We will use the rest as a test set \n",
    "- Choose which text to fit the classifier\n",
    "- A classifier based on the Naive Bayes algorithm, as implemented in NLTK."
   ]
  },
  {
   "cell_type": "code",
   "execution_count": 277,
   "metadata": {},
   "outputs": [],
   "source": [
    "def nbc(text = 'abstract'):\n",
    "    \n",
    "    if text == 'abstract':\n",
    "        no = 3\n",
    "    elif text == 'headline':\n",
    "        no = 4\n",
    "    elif text == 'snippet':\n",
    "        no = 5\n",
    "    elif text == 'paragraph':\n",
    "        no = 6\n",
    "    \n",
    "    df_list = [(news_sp.values[i,no], news_sp.values[i,2]) for i in range(len(news_sp))]\n",
    "    train = df_list[0:700]\n",
    "    test = df_list[701:len(df_list)+1]\n",
    "    \n",
    "    cl = NaiveBayesClassifier(train)\n",
    "    accuracy = cl.accuracy(test)\n",
    "\n",
    "    return [cl, accuracy]"
   ]
  },
  {
   "cell_type": "markdown",
   "metadata": {},
   "source": [
    "**Use the function to create classifier**"
   ]
  },
  {
   "cell_type": "code",
   "execution_count": 275,
   "metadata": {},
   "outputs": [],
   "source": [
    "cl_abstract = nbc('abstract')"
   ]
  },
  {
   "cell_type": "markdown",
   "metadata": {},
   "source": [
    "**Use show_informative_features**"
   ]
  },
  {
   "cell_type": "code",
   "execution_count": 279,
   "metadata": {},
   "outputs": [
    {
     "name": "stdout",
     "output_type": "stream",
     "text": [
      "Most Informative Features\n",
      "            contains(we) = True              neg : pos    =      7.6 : 1.0\n",
      "         contains(worth) = True              pos : neg    =      7.1 : 1.0\n",
      "           contains(yet) = True              neg : pos    =      6.9 : 1.0\n",
      "        contains(showed) = True              neg : pos    =      6.1 : 1.0\n",
      "         contains(women) = True              neg : pos    =      5.4 : 1.0\n",
      "  contains(improvements) = True              neg : pos    =      5.4 : 1.0\n",
      "        contains(appeal) = True              neg : pos    =      5.4 : 1.0\n",
      "        contains(Street) = True              pos : neg    =      5.2 : 1.0\n",
      "       contains(lawyers) = True              neg : pos    =      4.7 : 1.0\n",
      "      contains(pressure) = True              neg : pos    =      4.7 : 1.0\n",
      "          contains(sign) = True              neg : pos    =      4.7 : 1.0\n",
      "       contains(improve) = True              neg : pos    =      4.7 : 1.0\n",
      "      contains(internet) = True              neg : pos    =      4.7 : 1.0\n",
      "         contains(place) = True              neg : pos    =      4.7 : 1.0\n",
      "     contains(president) = True              pos : neg    =      4.6 : 1.0\n",
      "         contains(store) = True              pos : neg    =      4.6 : 1.0\n",
      "          contains(Wall) = True              pos : neg    =      4.6 : 1.0\n",
      "          contains(file) = True              pos : neg    =      4.0 : 1.0\n",
      "         contains(third) = True              pos : neg    =      4.0 : 1.0\n",
      "        contains(turned) = True              pos : neg    =      4.0 : 1.0\n"
     ]
    }
   ],
   "source": [
    "cl_abstract[0].show_informative_features(20)"
   ]
  },
  {
   "cell_type": "markdown",
   "metadata": {},
   "source": [
    "**Use classify function to classify the text**"
   ]
  },
  {
   "cell_type": "code",
   "execution_count": 291,
   "metadata": {},
   "outputs": [
    {
     "data": {
      "text/plain": [
       "'pos'"
      ]
     },
     "execution_count": 291,
     "metadata": {},
     "output_type": "execute_result"
    }
   ],
   "source": [
    "cl_abstract[0].classify('women')"
   ]
  },
  {
   "cell_type": "markdown",
   "metadata": {},
   "source": [
    "**Compute Accuracy Rate on Test Set**"
   ]
  },
  {
   "cell_type": "code",
   "execution_count": 276,
   "metadata": {},
   "outputs": [
    {
     "data": {
      "text/plain": [
       "0.5833333333333334"
      ]
     },
     "execution_count": 276,
     "metadata": {},
     "output_type": "execute_result"
    }
   ],
   "source": [
    "cl_abstract[1]"
   ]
  }
 ],
 "metadata": {
  "kernelspec": {
   "display_name": "Python 3",
   "language": "python",
   "name": "python3"
  },
  "language_info": {
   "codemirror_mode": {
    "name": "ipython",
    "version": 3
   },
   "file_extension": ".py",
   "mimetype": "text/x-python",
   "name": "python",
   "nbconvert_exporter": "python",
   "pygments_lexer": "ipython3",
   "version": "3.6.4"
  }
 },
 "nbformat": 4,
 "nbformat_minor": 2
}
