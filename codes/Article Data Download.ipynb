{
 "cells": [
  {
   "cell_type": "markdown",
   "metadata": {},
   "source": [
    "# Download Data from NY Times API and Yahoo Package\n",
    "\n",
    "- This script will download the data from the NY Times API and Yahoo! Finance.\n",
    "- We will use the article data to run sentiment analysis and compare it to the stock price perfomance"
   ]
  },
  {
   "cell_type": "markdown",
   "metadata": {},
   "source": [
    "### 1. Import Packages"
   ]
  },
  {
   "cell_type": "code",
   "execution_count": 1,
   "metadata": {},
   "outputs": [],
   "source": [
    "# Lets us talk to other servers on the web\n",
    "import requests\n",
    "\n",
    "# APIs spit out data in JSON\n",
    "import json\n",
    "\n",
    "# Handling dates and times\n",
    "from datetime import datetime\n",
    "\n",
    "# DataFrames!\n",
    "import pandas as pd\n",
    "import numpy as np\n",
    "\n",
    "# Data visualization\n",
    "%matplotlib inline\n",
    "import matplotlib.pyplot as plt\n",
    "import seaborn as sb\n",
    "\n",
    "# operating system commands\n",
    "import os\n",
    "\n",
    "# NYtimes Article API\n",
    "from nytimesarticle import articleAPI\n",
    "\n",
    "import time\n",
    "\n",
    "# Yahoo package\n",
    "from yahoo_historical import Fetcher\n",
    "\n",
    "# Sentiment Analysis Package\n",
    "from textblob import TextBlob\n",
    "from textblob.sentiments import NaiveBayesAnalyzer\n",
    "from textblob import Blobber"
   ]
  },
  {
   "cell_type": "markdown",
   "metadata": {},
   "source": [
    "### 2. Define functions\n",
    "\n",
    "1. **parse_articles**: define a function that parses articles and makes it as a list of articles\n",
    "2. **get_articles**: define a function that get articles from the NY Times and uses the above function to parse the article"
   ]
  },
  {
   "cell_type": "code",
   "execution_count": 2,
   "metadata": {},
   "outputs": [],
   "source": [
    "def parse_articles(articles):\n",
    "\n",
    "    news = []\n",
    "    \n",
    "    for i in articles['response']['docs']:\n",
    "        \n",
    "        dic = {}\n",
    "        \n",
    "        # general infos\n",
    "        \n",
    "        dic['id'] = i['_id']\n",
    "        try:\n",
    "            dic['abstract'] = i['abstract']\n",
    "        except: \n",
    "            dic['abstract'] = ''\n",
    "        dic['doctype'] = i['document_type']\n",
    "        dic['headline'] = i['headline']['main']\n",
    "        dic['paragraph'] = i['lead_paragraph']\n",
    "        dic['desk'] = i['news_desk']\n",
    "        dic['date'] = i['pub_date'][0:10] # cutting time of day.\n",
    "        try:\n",
    "            dic['snippet'] = i['snippet']\n",
    "        except: \n",
    "            dic['snippet'] = ''\n",
    "        try: \n",
    "            dic['source'] = i['source']\n",
    "        except: \n",
    "            dic['source'] = ''    \n",
    "        try: \n",
    "            dic['type'] = i['type_of_material']\n",
    "        except: \n",
    "            dic['type'] = ''\n",
    "        dic['url'] = i['web_url']\n",
    "        dic['word_count'] = i['word_count']\n",
    "        \n",
    "        # organizations\n",
    "        organizations = []\n",
    "        for x in range(0, len(i['keywords'])):\n",
    "            if 'organizations' in i['keywords'][x]['name']:\n",
    "                organizations.append(i['keywords'][x]['value'])\n",
    "        dic['organization'] = organizations\n",
    "        \n",
    "        # locations\n",
    "        locations = []\n",
    "        for x in range(0,len(i['keywords'])):\n",
    "            if 'glocations' in i['keywords'][x]['name']:\n",
    "                locations.append(i['keywords'][x]['value'])\n",
    "        dic['locations'] = locations\n",
    "        \n",
    "        # subject\n",
    "        subjects = []\n",
    "        for x in range(0,len(i['keywords'])):\n",
    "            if 'subject' in i['keywords'][x]['name']:\n",
    "                subjects.append(i['keywords'][x]['value'])\n",
    "        dic['subjects'] = subjects   \n",
    "        \n",
    "        news.append(dic)\n",
    "        \n",
    "    return(news) "
   ]
  },
  {
   "cell_type": "code",
   "execution_count": 3,
   "metadata": {},
   "outputs": [],
   "source": [
    "def get_articles(begindate, enddate, query, org, apikey):\n",
    "    \n",
    "    query_url = 'https://api.nytimes.com/svc/search/v2/articlesearch.json?'\n",
    "    all_articles = []\n",
    "    \n",
    "    for i in range(0, 100): #NYT limits pager to first 100 pages. But rarely will you find over 100 pages of results anyway.\n",
    "        query_url_full = query_url + 'begin_date=' + begindate + '&end_date=' + enddate + '&fq=organizations%3A(%22' + org + '%22)&page=' + str(i) + '&q=' + query + '&sort=oldest&api-key='+ apikey\n",
    "        articles = requests.get(url = query_url_full).json()\n",
    "        #print('okay', i)\n",
    "        articles = parse_articles(articles)\n",
    "        all_articles = all_articles + articles\n",
    "        time.sleep(7)\n",
    "        \n",
    "    return(all_articles)"
   ]
  },
  {
   "cell_type": "markdown",
   "metadata": {},
   "source": [
    "### 3. Download articles\n",
    "\n",
    "**Apple**\n",
    "\n",
    "- We will download all the articles on Apple Inc from January 1, 2014 to April 30, 2019\n",
    "- Set query 'Apple' and organization 'Apple Inc'\n",
    "- Since there is a data limit to download articles from the API, we will run the codes in several stpes\n",
    "- Make sure to define api key"
   ]
  },
  {
   "cell_type": "code",
   "execution_count": 4,
   "metadata": {},
   "outputs": [
    {
     "ename": "KeyError",
     "evalue": "'response'",
     "output_type": "error",
     "traceback": [
      "\u001b[0;31m---------------------------------------------------------------------------\u001b[0m",
      "\u001b[0;31mKeyError\u001b[0m                                  Traceback (most recent call last)",
      "\u001b[0;32m<ipython-input-4-d824fbc54f04>\u001b[0m in \u001b[0;36m<module>\u001b[0;34m()\u001b[0m\n\u001b[1;32m      1\u001b[0m \u001b[0mapikey\u001b[0m \u001b[0;34m=\u001b[0m \u001b[0;34m'w9mKbeX1AI6QA3k1w9YkdCphQpFa1auk'\u001b[0m\u001b[0;34m\u001b[0m\u001b[0m\n\u001b[0;32m----> 2\u001b[0;31m \u001b[0mapple_news\u001b[0m \u001b[0;34m=\u001b[0m \u001b[0mget_articles\u001b[0m\u001b[0;34m(\u001b[0m\u001b[0;34m'20140101'\u001b[0m\u001b[0;34m,\u001b[0m \u001b[0;34m'20190430'\u001b[0m\u001b[0;34m,\u001b[0m \u001b[0;34m'Apple'\u001b[0m\u001b[0;34m,\u001b[0m \u001b[0;34m'Apple%20Inc'\u001b[0m\u001b[0;34m,\u001b[0m \u001b[0mapikey\u001b[0m\u001b[0;34m)\u001b[0m\u001b[0;34m\u001b[0m\u001b[0m\n\u001b[0m\u001b[1;32m      3\u001b[0m \u001b[0mlast_date\u001b[0m \u001b[0;34m=\u001b[0m \u001b[0mapple_news\u001b[0m\u001b[0;34m[\u001b[0m\u001b[0mlen\u001b[0m\u001b[0;34m(\u001b[0m\u001b[0mapple_news\u001b[0m\u001b[0;34m)\u001b[0m\u001b[0;34m-\u001b[0m\u001b[0;36m1\u001b[0m\u001b[0;34m]\u001b[0m\u001b[0;34m[\u001b[0m\u001b[0;34m'date'\u001b[0m\u001b[0;34m]\u001b[0m\u001b[0;34m\u001b[0m\u001b[0m\n\u001b[1;32m      4\u001b[0m \u001b[0mlast_date2\u001b[0m \u001b[0;34m=\u001b[0m \u001b[0mdatetime\u001b[0m\u001b[0;34m.\u001b[0m\u001b[0mstrptime\u001b[0m\u001b[0;34m(\u001b[0m\u001b[0mlast_date\u001b[0m\u001b[0;34m,\u001b[0m \u001b[0;34m'%Y-%m-%d'\u001b[0m\u001b[0;34m)\u001b[0m\u001b[0;34m.\u001b[0m\u001b[0mstrftime\u001b[0m\u001b[0;34m(\u001b[0m\u001b[0;34m'%Y%m%d'\u001b[0m\u001b[0;34m)\u001b[0m\u001b[0;34m\u001b[0m\u001b[0m\n\u001b[1;32m      5\u001b[0m \u001b[0mapple_news2\u001b[0m \u001b[0;34m=\u001b[0m \u001b[0mget_articles\u001b[0m\u001b[0;34m(\u001b[0m\u001b[0mlast_date2\u001b[0m\u001b[0;34m,\u001b[0m \u001b[0;34m'20190430'\u001b[0m\u001b[0;34m,\u001b[0m \u001b[0;34m'Apple'\u001b[0m\u001b[0;34m,\u001b[0m \u001b[0;34m'Apple%20Inc'\u001b[0m\u001b[0;34m,\u001b[0m \u001b[0mapikey\u001b[0m\u001b[0;34m)\u001b[0m\u001b[0;34m\u001b[0m\u001b[0m\n",
      "\u001b[0;32m<ipython-input-3-e6b7e675cca2>\u001b[0m in \u001b[0;36mget_articles\u001b[0;34m(begindate, enddate, query, org, apikey)\u001b[0m\n\u001b[1;32m      8\u001b[0m         \u001b[0marticles\u001b[0m \u001b[0;34m=\u001b[0m \u001b[0mrequests\u001b[0m\u001b[0;34m.\u001b[0m\u001b[0mget\u001b[0m\u001b[0;34m(\u001b[0m\u001b[0murl\u001b[0m \u001b[0;34m=\u001b[0m \u001b[0mquery_url_full\u001b[0m\u001b[0;34m)\u001b[0m\u001b[0;34m.\u001b[0m\u001b[0mjson\u001b[0m\u001b[0;34m(\u001b[0m\u001b[0;34m)\u001b[0m\u001b[0;34m\u001b[0m\u001b[0m\n\u001b[1;32m      9\u001b[0m         \u001b[0;31m#print('okay', i)\u001b[0m\u001b[0;34m\u001b[0m\u001b[0;34m\u001b[0m\u001b[0m\n\u001b[0;32m---> 10\u001b[0;31m         \u001b[0marticles\u001b[0m \u001b[0;34m=\u001b[0m \u001b[0mparse_articles\u001b[0m\u001b[0;34m(\u001b[0m\u001b[0marticles\u001b[0m\u001b[0;34m)\u001b[0m\u001b[0;34m\u001b[0m\u001b[0m\n\u001b[0m\u001b[1;32m     11\u001b[0m         \u001b[0mall_articles\u001b[0m \u001b[0;34m=\u001b[0m \u001b[0mall_articles\u001b[0m \u001b[0;34m+\u001b[0m \u001b[0marticles\u001b[0m\u001b[0;34m\u001b[0m\u001b[0m\n\u001b[1;32m     12\u001b[0m         \u001b[0mtime\u001b[0m\u001b[0;34m.\u001b[0m\u001b[0msleep\u001b[0m\u001b[0;34m(\u001b[0m\u001b[0;36m7\u001b[0m\u001b[0;34m)\u001b[0m\u001b[0;34m\u001b[0m\u001b[0m\n",
      "\u001b[0;32m<ipython-input-2-0eb337a89c7f>\u001b[0m in \u001b[0;36mparse_articles\u001b[0;34m(articles)\u001b[0m\n\u001b[1;32m      3\u001b[0m     \u001b[0mnews\u001b[0m \u001b[0;34m=\u001b[0m \u001b[0;34m[\u001b[0m\u001b[0;34m]\u001b[0m\u001b[0;34m\u001b[0m\u001b[0m\n\u001b[1;32m      4\u001b[0m \u001b[0;34m\u001b[0m\u001b[0m\n\u001b[0;32m----> 5\u001b[0;31m     \u001b[0;32mfor\u001b[0m \u001b[0mi\u001b[0m \u001b[0;32min\u001b[0m \u001b[0marticles\u001b[0m\u001b[0;34m[\u001b[0m\u001b[0;34m'response'\u001b[0m\u001b[0;34m]\u001b[0m\u001b[0;34m[\u001b[0m\u001b[0;34m'docs'\u001b[0m\u001b[0;34m]\u001b[0m\u001b[0;34m:\u001b[0m\u001b[0;34m\u001b[0m\u001b[0m\n\u001b[0m\u001b[1;32m      6\u001b[0m \u001b[0;34m\u001b[0m\u001b[0m\n\u001b[1;32m      7\u001b[0m         \u001b[0mdic\u001b[0m \u001b[0;34m=\u001b[0m \u001b[0;34m{\u001b[0m\u001b[0;34m}\u001b[0m\u001b[0;34m\u001b[0m\u001b[0m\n",
      "\u001b[0;31mKeyError\u001b[0m: 'response'"
     ]
    }
   ],
   "source": [
    "apikey = '<API-KEY>'\n",
    "apple_news = get_articles('20140101', '20190430', 'Apple', 'Apple%20Inc', apikey)\n",
    "last_date = apple_news[len(apple_news)-1]['date']\n",
    "last_date2 = datetime.strptime(last_date, '%Y-%m-%d').strftime('%Y%m%d')\n",
    "apple_news2 = get_articles(last_date2, '20190430', 'Apple', 'Apple%20Inc', apikey)"
   ]
  },
  {
   "cell_type": "markdown",
   "metadata": {},
   "source": [
    "**If it is needed to run another round, run the below codes**\n",
    "- Check whether the last date is 2019-04-30."
   ]
  },
  {
   "cell_type": "code",
   "execution_count": 18,
   "metadata": {},
   "outputs": [
    {
     "name": "stdout",
     "output_type": "stream",
     "text": [
      "2019-04-30\n"
     ]
    }
   ],
   "source": [
    "last_date = apple_news2[len(apple_news2)-1]['date']\n",
    "print(last_date)\n",
    "#last_date2 = datetime.datetime.strptime(last_date, '%Y-%m-%d').strftime('%Y%m%d')\n",
    "#apple_news3 = get_articles('20181229', '20190430', 'Apple', 'Apple%20Inc')"
   ]
  },
  {
   "cell_type": "markdown",
   "metadata": {},
   "source": [
    "## Combine News \n",
    "- Combine all the articles and convert the data set into a panda data frame"
   ]
  },
  {
   "cell_type": "code",
   "execution_count": 19,
   "metadata": {},
   "outputs": [
    {
     "data": {
      "text/html": [
       "<div>\n",
       "<style scoped>\n",
       "    .dataframe tbody tr th:only-of-type {\n",
       "        vertical-align: middle;\n",
       "    }\n",
       "\n",
       "    .dataframe tbody tr th {\n",
       "        vertical-align: top;\n",
       "    }\n",
       "\n",
       "    .dataframe thead th {\n",
       "        text-align: right;\n",
       "    }\n",
       "</style>\n",
       "<table border=\"1\" class=\"dataframe\">\n",
       "  <thead>\n",
       "    <tr style=\"text-align: right;\">\n",
       "      <th></th>\n",
       "      <th>abstract</th>\n",
       "      <th>date</th>\n",
       "      <th>desk</th>\n",
       "      <th>doctype</th>\n",
       "      <th>headline</th>\n",
       "      <th>id</th>\n",
       "      <th>locations</th>\n",
       "      <th>organization</th>\n",
       "      <th>paragraph</th>\n",
       "      <th>snippet</th>\n",
       "      <th>source</th>\n",
       "      <th>subjects</th>\n",
       "      <th>type</th>\n",
       "      <th>url</th>\n",
       "      <th>word_count</th>\n",
       "    </tr>\n",
       "  </thead>\n",
       "  <tbody>\n",
       "    <tr>\n",
       "      <th>0</th>\n",
       "      <td>Apple’s iCloud data service works best with Ap...</td>\n",
       "      <td>2014-01-07</td>\n",
       "      <td>Business</td>\n",
       "      <td>article</td>\n",
       "      <td>Taking Along iCloud Calendars</td>\n",
       "      <td>5c9e779049f0eacbf109e38f</td>\n",
       "      <td>[]</td>\n",
       "      <td>[Apple Inc, iCloud, Samsung Group, Google Inc]</td>\n",
       "      <td>Q. Our family life depends on Apple shared cal...</td>\n",
       "      <td>Apple’s iCloud data service works best with Ap...</td>\n",
       "      <td>The New York Times</td>\n",
       "      <td>[Android (Operating System), Smartphones]</td>\n",
       "      <td>Question</td>\n",
       "      <td>https://www.nytimes.com/2014/01/09/technology/...</td>\n",
       "      <td>634</td>\n",
       "    </tr>\n",
       "    <tr>\n",
       "      <th>1</th>\n",
       "      <td>In March, Apple and Samsung Electronics are sc...</td>\n",
       "      <td>2014-01-09</td>\n",
       "      <td></td>\n",
       "      <td>article</td>\n",
       "      <td>Apple and Samsung Chiefs to Meet a Mediator Ah...</td>\n",
       "      <td>5ca0ac6b49f0eacbf1f508e3</td>\n",
       "      <td>[]</td>\n",
       "      <td>[Apple Inc, Samsung Electronics Co]</td>\n",
       "      <td>In March, Apple and Samsung Electronics are sc...</td>\n",
       "      <td>In March, Apple and Samsung Electronics are sc...</td>\n",
       "      <td>The New York Times</td>\n",
       "      <td>[Inventions and Patents, Smartphones, Suits an...</td>\n",
       "      <td>News</td>\n",
       "      <td>https://bits.blogs.nytimes.com/2014/01/09/appl...</td>\n",
       "      <td>146</td>\n",
       "    </tr>\n",
       "    <tr>\n",
       "      <th>2</th>\n",
       "      <td>Last year was the first in which personal comp...</td>\n",
       "      <td>2014-01-10</td>\n",
       "      <td></td>\n",
       "      <td>article</td>\n",
       "      <td>For PC Makers, the Good News on 2013 Is That I...</td>\n",
       "      <td>5ca0b20949f0eacbf1f6da72</td>\n",
       "      <td>[]</td>\n",
       "      <td>[Apple Inc, Dell Inc, Gartner Inc, Hewlett-Pac...</td>\n",
       "      <td>The two leading analysis companies tracking th...</td>\n",
       "      <td>Last year was the first in which personal comp...</td>\n",
       "      <td>The New York Times</td>\n",
       "      <td>[Computers and the Internet, Desktop Computers]</td>\n",
       "      <td>News</td>\n",
       "      <td>https://bits.blogs.nytimes.com/2014/01/09/for-...</td>\n",
       "      <td>556</td>\n",
       "    </tr>\n",
       "    <tr>\n",
       "      <th>3</th>\n",
       "      <td>A summary of differences in the latest Windows...</td>\n",
       "      <td>2014-01-10</td>\n",
       "      <td>Business</td>\n",
       "      <td>article</td>\n",
       "      <td>Changes in Windows 8.1, With Skype Replacing M...</td>\n",
       "      <td>5c9e779049f0eacbf109e391</td>\n",
       "      <td>[]</td>\n",
       "      <td>[Apple Inc, Microsoft Corporation, Skype Techn...</td>\n",
       "      <td>Meeting the New Messenger in Windows 8.1</td>\n",
       "      <td>A summary of differences in the latest Windows...</td>\n",
       "      <td>The New York Times</td>\n",
       "      <td>[Windows (Operating System), Mobile Applicatio...</td>\n",
       "      <td>Question</td>\n",
       "      <td>https://www.nytimes.com/2014/01/10/technology/...</td>\n",
       "      <td>445</td>\n",
       "    </tr>\n",
       "    <tr>\n",
       "      <th>4</th>\n",
       "      <td>To draw young buyers and increase its market s...</td>\n",
       "      <td>2014-01-13</td>\n",
       "      <td>Business</td>\n",
       "      <td>article</td>\n",
       "      <td>Cost of Cool in India? An iPhone</td>\n",
       "      <td>5c9e916049f0eacbf10fe422</td>\n",
       "      <td>[India]</td>\n",
       "      <td>[Apple Inc]</td>\n",
       "      <td>BANGALORE, India — After deliberating for mont...</td>\n",
       "      <td>To draw young buyers and increase its market s...</td>\n",
       "      <td>The New York Times</td>\n",
       "      <td>[iPhone, Prices (Fares, Fees and Rates), Smart...</td>\n",
       "      <td>News</td>\n",
       "      <td>https://www.nytimes.com/2014/01/13/business/in...</td>\n",
       "      <td>1248</td>\n",
       "    </tr>\n",
       "  </tbody>\n",
       "</table>\n",
       "</div>"
      ],
      "text/plain": [
       "                                            abstract        date      desk  \\\n",
       "0  Apple’s iCloud data service works best with Ap...  2014-01-07  Business   \n",
       "1  In March, Apple and Samsung Electronics are sc...  2014-01-09             \n",
       "2  Last year was the first in which personal comp...  2014-01-10             \n",
       "3  A summary of differences in the latest Windows...  2014-01-10  Business   \n",
       "4  To draw young buyers and increase its market s...  2014-01-13  Business   \n",
       "\n",
       "   doctype                                           headline  \\\n",
       "0  article                      Taking Along iCloud Calendars   \n",
       "1  article  Apple and Samsung Chiefs to Meet a Mediator Ah...   \n",
       "2  article  For PC Makers, the Good News on 2013 Is That I...   \n",
       "3  article  Changes in Windows 8.1, With Skype Replacing M...   \n",
       "4  article                   Cost of Cool in India? An iPhone   \n",
       "\n",
       "                         id locations  \\\n",
       "0  5c9e779049f0eacbf109e38f        []   \n",
       "1  5ca0ac6b49f0eacbf1f508e3        []   \n",
       "2  5ca0b20949f0eacbf1f6da72        []   \n",
       "3  5c9e779049f0eacbf109e391        []   \n",
       "4  5c9e916049f0eacbf10fe422   [India]   \n",
       "\n",
       "                                        organization  \\\n",
       "0     [Apple Inc, iCloud, Samsung Group, Google Inc]   \n",
       "1                [Apple Inc, Samsung Electronics Co]   \n",
       "2  [Apple Inc, Dell Inc, Gartner Inc, Hewlett-Pac...   \n",
       "3  [Apple Inc, Microsoft Corporation, Skype Techn...   \n",
       "4                                        [Apple Inc]   \n",
       "\n",
       "                                           paragraph  \\\n",
       "0  Q. Our family life depends on Apple shared cal...   \n",
       "1  In March, Apple and Samsung Electronics are sc...   \n",
       "2  The two leading analysis companies tracking th...   \n",
       "3           Meeting the New Messenger in Windows 8.1   \n",
       "4  BANGALORE, India — After deliberating for mont...   \n",
       "\n",
       "                                             snippet              source  \\\n",
       "0  Apple’s iCloud data service works best with Ap...  The New York Times   \n",
       "1  In March, Apple and Samsung Electronics are sc...  The New York Times   \n",
       "2  Last year was the first in which personal comp...  The New York Times   \n",
       "3  A summary of differences in the latest Windows...  The New York Times   \n",
       "4  To draw young buyers and increase its market s...  The New York Times   \n",
       "\n",
       "                                            subjects      type  \\\n",
       "0          [Android (Operating System), Smartphones]  Question   \n",
       "1  [Inventions and Patents, Smartphones, Suits an...      News   \n",
       "2    [Computers and the Internet, Desktop Computers]      News   \n",
       "3  [Windows (Operating System), Mobile Applicatio...  Question   \n",
       "4  [iPhone, Prices (Fares, Fees and Rates), Smart...      News   \n",
       "\n",
       "                                                 url  word_count  \n",
       "0  https://www.nytimes.com/2014/01/09/technology/...         634  \n",
       "1  https://bits.blogs.nytimes.com/2014/01/09/appl...         146  \n",
       "2  https://bits.blogs.nytimes.com/2014/01/09/for-...         556  \n",
       "3  https://www.nytimes.com/2014/01/10/technology/...         445  \n",
       "4  https://www.nytimes.com/2014/01/13/business/in...        1248  "
      ]
     },
     "execution_count": 19,
     "metadata": {},
     "output_type": "execute_result"
    }
   ],
   "source": [
    "# Combine all the news\n",
    "# If apple_new3 exists, run the last code\n",
    "\n",
    "apple_news_total = apple_news + [i for i in apple_news2 if i['id'] not in [j['id'] for j in apple_news]]\n",
    "#apple_news_total = apple_news_total + [i for i in apple_news3 if i['id'] not in [j['id'] for j in apple_news2]]\n",
    "\n",
    "# Convert it into the panda DataFrame\n",
    "news_df = pd.DataFrame(apple_news_total)\n",
    "news_df.head()"
   ]
  },
  {
   "cell_type": "markdown",
   "metadata": {},
   "source": [
    "## Run the Sentiment Analysis on the Text\n",
    "\n",
    "### 1. Use Pattern Analyzer\n",
    "- Use Textblob package to compute sentiment scores (polarity and subjectivity)\n",
    "- Default setting is to use Pattern Analyzer"
   ]
  },
  {
   "cell_type": "code",
   "execution_count": 21,
   "metadata": {},
   "outputs": [],
   "source": [
    "# Compute Sentiment Polarity Score\n",
    "news_abstract_polarity =  [TextBlob(i).sentiment.polarity for i in news_df['abstract']]\n",
    "news_headline_polarity =  [TextBlob(i).sentiment.polarity for i in news_df['headline']]\n",
    "news_snippet_polarity =   [TextBlob(i).sentiment.polarity for i in news_df['snippet']]\n",
    "news_paragraph_polarity = [TextBlob(i).sentiment.polarity for i in news_df['paragraph']]\n",
    "\n",
    "# Compute Sentiment Subjectivity Score \n",
    "news_abstract_subj =   [TextBlob(i).sentiment.subjectivity for i in news_df['abstract']]\n",
    "news_headline_subj =   [TextBlob(i).sentiment.subjectivity for i in news_df['headline']]\n",
    "news_snippet_subj =    [TextBlob(i).sentiment.subjectivity for i in news_df['snippet']]\n",
    "news_paragraph_subj =  [TextBlob(i).sentiment.subjectivity for i in news_df['paragraph']]"
   ]
  },
  {
   "cell_type": "markdown",
   "metadata": {},
   "source": [
    "### 2. Use Naive Bayes Analyzer\n",
    "- Change the analyzer to Naive Bayes Analyzer\n",
    "- This uses Naive Bayes Classifier trained by using the movie review data in NLTK package \n",
    "- Use Blobber function so that the analyzer does not train the data each time it goes through the data"
   ]
  },
  {
   "cell_type": "code",
   "execution_count": 22,
   "metadata": {},
   "outputs": [],
   "source": [
    "blobber = Blobber(analyzer=NaiveBayesAnalyzer())\n",
    "news_abstract_polarity_nba = [blobber(i).sentiment[1] for i in news_df['abstract']]\n",
    "news_headline_polarity_nba = [blobber(i).sentiment[1] for i in news_df['headline']]\n",
    "news_snippet_polarity_nba = [blobber(i).sentiment[1] for i in news_df['snippet']]\n",
    "news_paragraph_polarity_nba = [blobber(i).sentiment[1] for i in news_df['paragraph']]"
   ]
  },
  {
   "cell_type": "markdown",
   "metadata": {},
   "source": [
    "## Add Sentiment Scores to the Dataframe"
   ]
  },
  {
   "cell_type": "code",
   "execution_count": 23,
   "metadata": {},
   "outputs": [],
   "source": [
    "news_df.insert(loc = len(news_df.columns), column = 'abstract_polarity', value = news_abstract_polarity)\n",
    "news_df.insert(loc = len(news_df.columns), column = 'headline_polarity', value = news_headline_polarity)\n",
    "news_df.insert(loc = len(news_df.columns), column = 'snippet_polarity', value = news_snippet_polarity)\n",
    "news_df.insert(loc = len(news_df.columns), column = 'paragraph_polarity', value = news_paragraph_polarity)\n",
    "news_df.insert(loc = len(news_df.columns), column = 'abstract_subjectivity', value = news_abstract_subj)\n",
    "news_df.insert(loc = len(news_df.columns), column = 'headline_subjectivity', value = news_headline_subj)\n",
    "news_df.insert(loc = len(news_df.columns), column = 'snippet_subjectivity', value = news_snippet_subj)\n",
    "news_df.insert(loc = len(news_df.columns), column = 'paragraph_subjectivity', value = news_paragraph_subj)\n",
    "news_df.insert(loc = len(news_df.columns), column = 'abstract_polarity_nba', value = news_abstract_polarity_nba)\n",
    "news_df.insert(loc = len(news_df.columns), column = 'headline_polarity_nba', value = news_headline_polarity_nba)\n",
    "news_df.insert(loc = len(news_df.columns), column = 'snippet_polarity_nba', value = news_snippet_polarity_nba)\n",
    "news_df.insert(loc = len(news_df.columns), column = 'paragraph_polarity_nba', value = news_paragraph_polarity_nba)"
   ]
  },
  {
   "cell_type": "markdown",
   "metadata": {},
   "source": [
    "## Export the Data Frame to CSV file"
   ]
  },
  {
   "cell_type": "code",
   "execution_count": 25,
   "metadata": {},
   "outputs": [],
   "source": [
    "news_df.to_csv('news_data.csv', encoding='utf-8', header = True, index = False)"
   ]
  },
  {
   "cell_type": "markdown",
   "metadata": {},
   "source": [
    "## Download Stock Prices from Yahoo Finance"
   ]
  },
  {
   "cell_type": "code",
   "execution_count": 7,
   "metadata": {},
   "outputs": [],
   "source": [
    "data = Fetcher(\"AAPL\", [2014,1,1], [2019,4,30])\n",
    "shareprice_df = data.getHistorical()\n",
    "#Use Adjusted Close Price\n",
    "close_price = df.iloc[:, [0,5]]"
   ]
  },
  {
   "cell_type": "code",
   "execution_count": 8,
   "metadata": {},
   "outputs": [],
   "source": [
    "shareprice_df.to_csv('share_price_data.csv', header = True)"
   ]
  }
 ],
 "metadata": {
  "kernelspec": {
   "display_name": "Python 3",
   "language": "python",
   "name": "python3"
  },
  "language_info": {
   "codemirror_mode": {
    "name": "ipython",
    "version": 3
   },
   "file_extension": ".py",
   "mimetype": "text/x-python",
   "name": "python",
   "nbconvert_exporter": "python",
   "pygments_lexer": "ipython3",
   "version": "3.6.4"
  }
 },
 "nbformat": 4,
 "nbformat_minor": 2
}
